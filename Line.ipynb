# Write your code here :-)
#you have to adjust this part of code for your microproceesorr.
import time
from adafruit_crickit import crickit

ss = crickit.seesaw
port1 = crickit.SIGNAL1
port2 = crickit.SIGNAL2
port3 = crickit.SIGNAL3
port4 = crickit.SIGNAL4
port5 = crickit.SIGNAL5
motor_1 = crickit.dc_motor_1
motor_2 = crickit.dc_motor_2

ss.pin_mode(port1,ss.INPUT_PULLUP)
ss.pin_mode(port2,ss.INPUT_PULLUP)
ss.pin_mode(port3,ss.INPUT_PULLUP)
ss.pin_mode(port4,ss.INPUT_PULLUP)
ss.pin_mode(port5,ss.INPUT_PULLUP)
I=0
previousError=0
initialPower=1.0
#Untill
def returnIrSensor(port):
  sensor=ss.digital_read(port)
  return sensor
def getErrorvalue(sensor1,sensor2,sensor3,sensor4,sensor5):
  E=0
  if sensor1==False and sensor2==False and sensor3==False and sensor4==False and sensor5==True:
    E=4
  elif sensor1==False and sensor2==False and sensor3==False and sensor4==True and sensor5==True:
    E=3
  elif sensor1==False and sensor2==False and sensor3==False and sensor4==True and sensor5==False:
    E=2
  elif sensor1==False and sensor2==False and sensor3==True and sensor4==True and sensor5==False:
    E=1
  elif sensor1==False and sensor2==False and sensor3==True and sensor4==False and sensor5==False:
    E=0
  elif sensor1==False and sensor2==True and sensor3==True and sensor4==False and sensor5==False:
    E=-1
  elif sensor1==False and sensor2==True and sensor3==False and sensor4==False and sensor5==False:
    E=-2
  elif sensor1==True and sensor2==True and sensor3==False and sensor4==False and sensor5==False:
    E=-3
  elif sensor1==True and sensor2==False and sensor3==False and sensor4==False and sensor5==False:
    E=-4

  return E
#This code return a value which is scaled to 1(max)-0(min)
#it is adjustig wheel speed with PID value P(error), I(summ of error), D(differential error)
def motorPower(P,I,D,initialPower):
  kp=1.00
  ki=0.000600
  kd=2

  PIDvalue = (kp*P) + (ki*I) + (kd*D)
  leftMotorSpeed=(-initialPower)+PIDvalue
  rightMotorSpeed=(initialPower)+PIDvalue
  return leftMotorSpeed,rightMotorSpeed
def motorAction(leftMotorSpeed,rightMotorSpeed):
    #In this part, you should arrange LeftMotorSpeed and rightMotorspeed 1 maxiumum 0 is stop, you are going to take leftMotorSpeed,rightMotorSpeed
    #and you are going to scale them between 0 and 1.
    #then put
    if rightMotorSpeed>=1.00:
        rightMotorSpeed=1
    if rightMotorSpeed<=0:
        rightMotorSpeed=0
    if leftMotorSpeed<=-1.00:
        leftMotorSpeed=-1.00
    if leftMotorSpeed>=0:
        leftMotorSpeed=0


    time.sleep(0.1)
    motor_2.throttle=-leftMotorSpeed
    motor_1.throttle=-rightMotorSpeed

def main(I,previousError):
  #you have to adjust this part of code for your microproceesorr.
  sensor1=returnIrSensor(port1)
  sensor2=returnIrSensor(port2)
  sensor3=returnIrSensor(port3)
  sensor4=returnIrSensor(port4)
  sensor5=returnIrSensor(port5)
  #Untill
  E = getErrorvalue(sensor1,sensor2,sensor3,sensor4,sensor5)
  P=E
  I=I+E
  D=E-previousError
  leftMotorSpeed,rightMotorSpeed = motorPower(P,I,D,initialPower)
  motorAction(leftMotorSpeed,rightMotorSpeed)
  previousError=E
  return I,previousError

while True:
   I,previousError=main(I,previousError)
