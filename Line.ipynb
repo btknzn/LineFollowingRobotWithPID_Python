{
  "nbformat": 4,
  "nbformat_minor": 0,
  "metadata": {
    "colab": {
      "name": "Untitled10.ipynb",
      "version": "0.3.2",
      "provenance": [],
      "include_colab_link": true
    },
    "kernelspec": {
      "name": "python3",
      "display_name": "Python 3"
    }
  },
  "cells": [
    {
      "cell_type": "markdown",
      "metadata": {
        "id": "view-in-github",
        "colab_type": "text"
      },
      "source": [
        "<a href=\"https://colab.research.google.com/github/btknzn/LineFollowingRobotWithPID_Python/blob/master/Line.ipynb\" target=\"_parent\"><img src=\"https://colab.research.google.com/assets/colab-badge.svg\" alt=\"Open In Colab\"/></a>"
      ]
    },
    {
      "metadata": {
        "id": "mL6D3EcVlk9P",
        "colab_type": "code",
        "colab": {}
      },
      "cell_type": "code",
      "source": [
        "import time\n",
        "from adafruit_crickit import crickit\n",
        "ss=crickit.seesaw\n",
        "port1 = crickit.SIGNAL1\n",
        "port2 = crickit.SIGNAL2\n",
        "port3 = crickit.SIGNAL3\n",
        "port4 = crickit.SIGNAL4\n",
        "port5 = crickit.SIGNAL5\n",
        "\n",
        "ss.pin_mode(port1,ss.INPUT_PULLUP)\n",
        "ss.pin_mode(port2,ss.INPUT_PULLUP)\n",
        "ss.pin_mode(port3,ss.INPUT_PULLUP)\n",
        "ss.pin_mode(port4,ss.INPUT_PULLUP)\n",
        "ss.pin_mode(port5,ss.INPUT_PULLUP)\n"
      ],
      "execution_count": 0,
      "outputs": []
    },
    {
      "metadata": {
        "id": "nKK36cZzlvz3",
        "colab_type": "code",
        "colab": {}
      },
      "cell_type": "code",
      "source": [
        "def returnIrSensor(port):\n",
        "  sensor=ss.digital_read(port)\n",
        "  return sensor"
      ],
      "execution_count": 0,
      "outputs": []
    },
    {
      "metadata": {
        "id": "bgj59_sel2x4",
        "colab_type": "code",
        "colab": {}
      },
      "cell_type": "code",
      "source": [
        "def getErrorvalue(sensor1,sensor2,sensor3,sensor4,sensor5):\n",
        "  if sensor1==False and sensor2==False and sensor3==False and sensor4==False and sensor5==True:\n",
        "    E=4\n",
        "  elif sensor1==False and sensor2==False and sensor3==False and sensor4==True and sensor5==True:\n",
        "    E=3\n",
        "  elif sensor1==False and sensor2==False and sensor3==False and sensor4==True and sensor5==False:\n",
        "    E=2\n",
        "  elif sensor1==False and sensor2==False and sensor3==True and sensor4==True and sensor5==True:\n",
        "    E=1\n",
        "  elif sensor1==False and sensor2==False and sensor3==True and sensor4==False and sensor5==False:\n",
        "    E=0\n",
        "  elif sensor1==False and sensor2==True and sensor3==True and sensor4==False and sensor5==False:\n",
        "    E=-1\n",
        "  elif sensor1==False and sensor2==True and sensor3==False and sensor4==False and sensor5==False:\n",
        "    E=-2\n",
        "  elif sensor1==False and sensor2==True and sensor3==True and sensor4==False and sensor5==False:\n",
        "    E=-3\n",
        "  elif sensor1==True and sensor2==True and sensor3==True and sensor4==False and sensor5==False:\n",
        "    E=-4\n",
        "  return E"
      ],
      "execution_count": 0,
      "outputs": []
    },
    {
      "metadata": {
        "id": "7pXGnt3Cm6wf",
        "colab_type": "code",
        "colab": {}
      },
      "cell_type": "code",
      "source": [
        "def main():\n",
        "  print(\"start\")\n",
        "  sensor1=returnIrSensor(port1)\n",
        "  sensor2=returnIrSensor(port2)\n",
        "  sensor3=returnIrSensor(port3)\n",
        "  sensor4=returnIrSensor(port4)\n",
        "  sensor5=returnIrSensor(port5)\n",
        "  E = getErrorvalue(sensor1,sensor2,sensor3,sensor4,sensor5)\n",
        "  print(E)\n",
        "  "
      ],
      "execution_count": 0,
      "outputs": []
    },
    {
      "metadata": {
        "id": "FuSsJLzFnPC3",
        "colab_type": "code",
        "colab": {}
      },
      "cell_type": "code",
      "source": [
        "if __name__ == '__main__':\n",
        "  while True:\n",
        "    main()"
      ],
      "execution_count": 0,
      "outputs": []
    }
  ]
}